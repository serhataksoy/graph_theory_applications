{
 "cells": [
  {
   "cell_type": "markdown",
   "id": "73a87412",
   "metadata": {},
   "source": [
    "Important features:\n",
    "\n",
    "1)An hypercube is k-regular so it has k*2^k-1 edges.\n",
    "\n",
    "2)Has 2^k verticies.\n",
    "\n",
    "3)Two verticies are adjacent if they differ exactly one coordinate."
   ]
  },
  {
   "cell_type": "markdown",
   "id": "8ca439db",
   "metadata": {},
   "source": [
    "So when we calculating the shortest path we can exactly say how many paths in there with using 3.rd feature."
   ]
  },
  {
   "cell_type": "code",
   "execution_count": 7,
   "id": "08b57a1c",
   "metadata": {},
   "outputs": [],
   "source": [
    "def find_diff_on_coords(coords):\n",
    "    diff = 0\n",
    "    for i in range(len(coords[0])):\n",
    "        if coords[0][i] != coords[1][i]:\n",
    "            diff += 1\n",
    "            \n",
    "    return diff"
   ]
  },
  {
   "cell_type": "code",
   "execution_count": 23,
   "id": "36c907a8",
   "metadata": {},
   "outputs": [
    {
     "data": {
      "text/plain": [
       "4"
      ]
     },
     "execution_count": 23,
     "metadata": {},
     "output_type": "execute_result"
    }
   ],
   "source": [
    "coords = [[0,0,1,0],[1,1,0,1]]\n",
    "find_diff_on_coords(coords)"
   ]
  },
  {
   "cell_type": "code",
   "execution_count": 24,
   "id": "0d397aa0",
   "metadata": {},
   "outputs": [],
   "source": [
    "def spa_on_hypercubes(coords):\n",
    "    diff = find_diff_on_coords(coords)\n",
    "    print(f'There are {diff} differences.')\n",
    "    diff = 0\n",
    "    for i in range(len(coords[0])):\n",
    "        if coords[0][i] != coords[1][i]:\n",
    "            coords[0][i] = coords[1][i]\n",
    "            print(f'Visited: {coords[0]}')"
   ]
  },
  {
   "cell_type": "code",
   "execution_count": 25,
   "id": "7bb2369f",
   "metadata": {},
   "outputs": [
    {
     "name": "stdout",
     "output_type": "stream",
     "text": [
      "There are 4 differences.\n",
      "Visited: [1, 0, 1, 0]\n",
      "Visited: [1, 1, 1, 0]\n",
      "Visited: [1, 1, 0, 0]\n",
      "Visited: [1, 1, 0, 1]\n"
     ]
    }
   ],
   "source": [
    "spa_on_hypercubes(coords)"
   ]
  },
  {
   "cell_type": "code",
   "execution_count": null,
   "id": "ae03060b",
   "metadata": {},
   "outputs": [],
   "source": []
  }
 ],
 "metadata": {
  "kernelspec": {
   "display_name": "Python 3 (ipykernel)",
   "language": "python",
   "name": "python3"
  },
  "language_info": {
   "codemirror_mode": {
    "name": "ipython",
    "version": 3
   },
   "file_extension": ".py",
   "mimetype": "text/x-python",
   "name": "python",
   "nbconvert_exporter": "python",
   "pygments_lexer": "ipython3",
   "version": "3.9.13"
  }
 },
 "nbformat": 4,
 "nbformat_minor": 5
}
