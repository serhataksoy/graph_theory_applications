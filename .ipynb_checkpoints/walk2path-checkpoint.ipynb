{
 "cells": [
  {
   "cell_type": "markdown",
   "id": "e46a0d0d",
   "metadata": {},
   "source": [
    "This code is simply find paths in walk."
   ]
  },
  {
   "cell_type": "code",
   "execution_count": 31,
   "id": "656914f6",
   "metadata": {},
   "outputs": [],
   "source": [
    "def walk2path(walk):\n",
    "    walked = []\n",
    "    for i in range(len(walk)):\n",
    "        walked = add_walked(walked,walk[i])\n",
    "\n",
    "    path = walked\n",
    "    return path"
   ]
  },
  {
   "cell_type": "code",
   "execution_count": 32,
   "id": "dd40bb3e",
   "metadata": {},
   "outputs": [],
   "source": [
    "def add_walked(walked,string):\n",
    "    for i in range(len(walked)):\n",
    "        if string == walked[i]:\n",
    "            print('There is a repeated verticies!')\n",
    "            walked = []\n",
    "            return walked\n",
    "    walked.append(string)\n",
    "    return walked"
   ]
  },
  {
   "cell_type": "code",
   "execution_count": 35,
   "id": "6ce4f11f",
   "metadata": {},
   "outputs": [
    {
     "name": "stdout",
     "output_type": "stream",
     "text": [
      "There is a repeated verticies!\n",
      "There is a repeated verticies!\n"
     ]
    },
    {
     "data": {
      "text/plain": [
       "['a']"
      ]
     },
     "execution_count": 35,
     "metadata": {},
     "output_type": "execute_result"
    }
   ],
   "source": [
    "walk = ['a','b','c','d','e','a','b','c','a','b','a']\n",
    "walk2path(walk)"
   ]
  }
 ],
 "metadata": {
  "kernelspec": {
   "display_name": "Python 3 (ipykernel)",
   "language": "python",
   "name": "python3"
  },
  "language_info": {
   "codemirror_mode": {
    "name": "ipython",
    "version": 3
   },
   "file_extension": ".py",
   "mimetype": "text/x-python",
   "name": "python",
   "nbconvert_exporter": "python",
   "pygments_lexer": "ipython3",
   "version": "3.9.13"
  }
 },
 "nbformat": 4,
 "nbformat_minor": 5
}
